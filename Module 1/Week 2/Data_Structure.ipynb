{
  "cells": [
    {
      "cell_type": "code",
      "execution_count": null,
      "metadata": {
        "colab": {
          "base_uri": "https://localhost:8080/"
        },
        "id": "ZN3-UpUC5334",
        "outputId": "3f1f186d-77c3-4601-b3df-5eb1917e8018"
      },
      "outputs": [
        {
          "name": "stdout",
          "output_type": "stream",
          "text": [
            "[4, 5, 5, 1, 5, 10, 12, 33]\n"
          ]
        }
      ],
      "source": [
        "num_list = [3, 4, 5, 1, -44 , 5 ,10, 12 ,33, 1]\n",
        "k = 3\n",
        "output = []\n",
        "\n",
        "for i in range(k - 1, len(num_list)):\n",
        "  max_value = max(num_list[i-2:i])\n",
        "  output.append(max_value)\n",
        "\n",
        "print(output)"
      ]
    },
    {
      "cell_type": "code",
      "execution_count": null,
      "metadata": {
        "colab": {
          "base_uri": "https://localhost:8080/"
        },
        "id": "_JdI5ps2AFFa",
        "outputId": "b4fc12cf-91ff-475f-c935-9597ecb594b2"
      },
      "outputs": [
        {
          "name": "stdout",
          "output_type": "stream",
          "text": [
            "{'H': 1, 'a': 1, 'p': 2, 'i': 1, 'n': 1, 'e': 1, 's': 2}\n",
            "{'s': 2, 'm': 1, 'i': 1, 'l': 1, 'e': 1}\n"
          ]
        }
      ],
      "source": [
        "def count_chars(string):\n",
        "    char_count = {}\n",
        "    for char in string:\n",
        "        if char in char_count:\n",
        "            char_count[char] += 1\n",
        "        else:\n",
        "            char_count[char] = 1\n",
        "    print(char_count)\n",
        "\n",
        "string = 'Happiness'\n",
        "count_chars(string)\n",
        "\n",
        "string = 'smiles'\n",
        "count_chars(string)"
      ]
    },
    {
      "cell_type": "code",
      "execution_count": null,
      "metadata": {
        "colab": {
          "base_uri": "https://localhost:8080/"
        },
        "id": "22-mb_3ly3T-",
        "outputId": "8132fa91-e14b-49ae-f766-f4dd17315baf"
      },
      "outputs": [
        {
          "data": {
            "text/plain": [
              "{'he': 1,\n",
              " 'who': 3,\n",
              " 'conquers': 1,\n",
              " 'himself': 1,\n",
              " 'is': 3,\n",
              " 'the': 5,\n",
              " 'mightiest': 1,\n",
              " 'warrior': 1,\n",
              " 'try': 2,\n",
              " 'not': 1,\n",
              " 'to': 3,\n",
              " 'become': 2,\n",
              " 'a': 7,\n",
              " 'man': 6,\n",
              " 'of': 4,\n",
              " 'success': 3,\n",
              " 'but': 1,\n",
              " 'rather': 1,\n",
              " 'value': 1,\n",
              " 'one': 4,\n",
              " 'with': 4,\n",
              " 'courage': 1,\n",
              " 'makes': 1,\n",
              " 'majority': 1,\n",
              " 'secret': 1,\n",
              " 'in': 4,\n",
              " 'life': 2,\n",
              " 'for': 3,\n",
              " 'be': 1,\n",
              " 'ready': 1,\n",
              " 'his': 2,\n",
              " 'opportunity': 1,\n",
              " 'when': 2,\n",
              " 'it': 2,\n",
              " 'comes': 2,\n",
              " 'successful': 2,\n",
              " 'will': 2,\n",
              " 'profit': 1,\n",
              " 'from': 1,\n",
              " 'mistakes': 1,\n",
              " 'and': 1,\n",
              " 'again': 1,\n",
              " 'different': 1,\n",
              " 'way': 1,\n",
              " 'can': 3,\n",
              " 'lay': 1,\n",
              " 'firm': 1,\n",
              " 'foundation': 1,\n",
              " 'bricks': 1,\n",
              " 'others': 1,\n",
              " 'have': 1,\n",
              " 'thrown': 1,\n",
              " 'at': 1,\n",
              " 'him': 1,\n",
              " 'usually': 1,\n",
              " 'those': 1,\n",
              " 'are': 1,\n",
              " 'too': 1,\n",
              " 'busy': 1,\n",
              " 'looking': 1,\n",
              " 'we': 3,\n",
              " 'cannot': 1,\n",
              " 'solve': 1,\n",
              " 'problems': 1,\n",
              " 'kind': 1,\n",
              " 'thinking': 1,\n",
              " 'employed': 1,\n",
              " 'came': 1,\n",
              " 'up': 1,\n",
              " 'them': 1,\n",
              " 'just': 2,\n",
              " 'small': 1,\n",
              " 'positive': 1,\n",
              " 'thought': 1,\n",
              " 'morning': 1,\n",
              " 'change': 1,\n",
              " 'your': 1,\n",
              " 'whole': 1,\n",
              " 'day': 1,\n",
              " 'you': 3,\n",
              " 'get': 2,\n",
              " 'everything': 1,\n",
              " 'want': 2,\n",
              " 'if': 1,\n",
              " 'help': 1,\n",
              " 'enough': 1,\n",
              " 'other': 1,\n",
              " 'people': 1,\n",
              " 'what': 1,\n",
              " 'they': 1}"
            ]
          },
          "execution_count": 2,
          "metadata": {},
          "output_type": "execute_result"
        }
      ],
      "source": [
        "#!gdown https://drive.google.com/uc?id=1IBScGdW2xlNsc9v5zSAya548kNgiOrko\n",
        "file_path = \"/content/P1_data.txt\"\n",
        "\n",
        "def word_count(file_path):\n",
        "  dic = {}\n",
        "  with open(file_path, 'r') as f:\n",
        "    for line in f:\n",
        "      for word in line.split():\n",
        "        word = word.lower().strip()\n",
        "        if word:\n",
        "          if word in dic:\n",
        "            dic[word] += 1\n",
        "          else:\n",
        "            dic[word] = 1\n",
        "    return dic\n",
        "\n",
        "word_count(file_path)"
      ]
    }
  ],
  "metadata": {
    "colab": {
      "provenance": []
    },
    "kernelspec": {
      "display_name": "Python 3",
      "name": "python3"
    },
    "language_info": {
      "name": "python"
    }
  },
  "nbformat": 4,
  "nbformat_minor": 0
}
